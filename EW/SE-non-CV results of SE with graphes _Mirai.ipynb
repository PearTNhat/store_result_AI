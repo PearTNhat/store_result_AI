{
  "cells": [
    {
      "cell_type": "code",
      "execution_count": 1,
      "metadata": {
        "id": "PkPe3re7gKoN"
      },
      "outputs": [],
      "source": [
        "import warnings\n",
        "warnings.filterwarnings(\"ignore\")"
      ]
    },
    {
      "cell_type": "code",
      "execution_count": 2,
      "metadata": {
        "id": "Ts6bZ2LDgKoP"
      },
      "outputs": [],
      "source": [
        "import os\n",
        "import time\n",
        "import sklearn\n",
        "import random\n",
        "import numpy as np\n",
        "import pandas as pd\n",
        "from tqdm import tqdm\n",
        "from tabulate import tabulate\n",
        "\n",
        "import pandas as pd\n",
        "import seaborn as sns\n",
        "import matplotlib.pyplot as plt\n",
        "%matplotlib inline\n",
        "\n",
        "from sklearn.tree import DecisionTreeClassifier\n",
        "\n",
        "evaluate={'Acc':\"Accuracy\", 'b_Acc':\"Balanced Accuracy\", 'F1':\"F1 Score\", 'kap':\"Kappa\", 'ROC':\"Roc\"}"
      ]
    },
    {
      "cell_type": "code",
      "execution_count": 3,
      "metadata": {
        "id": "Y99DJRxagKoP"
      },
      "outputs": [],
      "source": [
        "from sklearn.svm import SVC\n",
        "from xgboost import XGBClassifier\n",
        "from sklearn.naive_bayes import BernoulliNB\n",
        "from sklearn.neighbors import KNeighborsClassifier\n",
        "from sklearn.linear_model import LogisticRegression\n",
        "from sklearn.tree import DecisionTreeClassifier\n",
        "from sklearn.metrics import accuracy_score\n"
      ]
    },
    {
      "cell_type": "code",
      "execution_count": 40,
      "metadata": {
        "id": "bzUBRFx-gKoQ"
      },
      "outputs": [],
      "source": [
        "def GA(train,test,cols,gen_number=25,outputcsv=\"GA_output.csv\"):\n",
        "    #defining various steps required for the genetic algorithm\n",
        "    # GA adapted from https://datascienceplus.com/genetic-algorithm-in-machine-learning-using-python/\n",
        "    def initilization_of_population(size,n_feat):\n",
        "        population = []\n",
        "        for i in range(size):\n",
        "            chromosome = np.ones(n_feat,dtype=bool)\n",
        "            chromosome[:int(0.3*n_feat)]=False\n",
        "            np.random.shuffle(chromosome)\n",
        "            population.append(chromosome)\n",
        "        return population\n",
        "\n",
        "    def fitness_score(population):\n",
        "        scores = []\n",
        "        for chromosome in population:\n",
        "            logmodel.fit(X_train.iloc[:,chromosome],y_train)\n",
        "            predictions = logmodel.predict(X_test.iloc[:,chromosome])\n",
        "            scores.append(sklearn.metrics.f1_score(y_test,predictions,average= \"macro\"))\n",
        "        scores, population = np.array(scores), np.array(population)\n",
        "        inds = np.argsort(scores)\n",
        "        return list(scores[inds][::-1]), list(population[inds,:][::-1])\n",
        "\n",
        "    def selection(pop_after_fit,n_parents):\n",
        "        population_nextgen = []\n",
        "        for i in range(n_parents):\n",
        "            population_nextgen.append(pop_after_fit[i])\n",
        "        return population_nextgen\n",
        "\n",
        "    def crossover(pop_after_sel):\n",
        "        population_nextgen=pop_after_sel\n",
        "        for i in range(len(pop_after_sel)):\n",
        "            child=pop_after_sel[i]\n",
        "            child[3:7]=pop_after_sel[(i+1)%len(pop_after_sel)][3:7]\n",
        "            population_nextgen.append(child)\n",
        "        return population_nextgen\n",
        "\n",
        "    def mutation(pop_after_cross,mutation_rate):\n",
        "        population_nextgen = []\n",
        "        for i in range(0,len(pop_after_cross)):\n",
        "            chromosome = pop_after_cross[i]\n",
        "            for j in range(len(chromosome)):\n",
        "                if random.random() < mutation_rate:\n",
        "                    chromosome[j]= not chromosome[j]\n",
        "            population_nextgen.append(chromosome)\n",
        "        #print(population_nextgen)\n",
        "        return population_nextgen\n",
        "\n",
        "    def generations(size,n_feat,n_parents,mutation_rate,n_gen,X_train,\n",
        "                                       X_test, y_train, y_test):\n",
        "        best_chromo= []\n",
        "        best_score= []\n",
        "        population_nextgen=initilization_of_population(size,n_feat)\n",
        "        for i in range(n_gen):\n",
        "            second=time.time()\n",
        "            scores, pop_after_fit = fitness_score(population_nextgen)\n",
        "            #print(scores[:2])\n",
        "            zaman=time.time()-second\n",
        "\n",
        "            ths.write(f\"{np.mean(scores)},{np.mean(scores)},{zaman}\\n\")\n",
        "\n",
        "\n",
        "            pop_after_sel = selection(pop_after_fit,n_parents)\n",
        "            pop_after_cross = crossover(pop_after_sel)\n",
        "            population_nextgen = mutation(pop_after_cross,mutation_rate)\n",
        "            best_chromo.append(pop_after_fit[0])\n",
        "            best_score.append(scores[0])\n",
        "        return best_chromo,best_score\n",
        "\n",
        "\n",
        "\n",
        "\n",
        "\n",
        "    df = pd.read_csv(train,usecols=cols)#,header=None )\n",
        "    df=df.fillna(0)\n",
        "    #df = df.sample(n = 10000)\n",
        "    X_train =df[df.columns[0:-1]]\n",
        "    #X_train=np.array(X_train)\n",
        "    df[df.columns[-1]] = df[df.columns[-1]].astype('category')\n",
        "    y_train=df[df.columns[-1]].cat.codes\n",
        "    df = pd.read_csv(test,usecols=cols)#,header=None )\n",
        "    df=df.fillna(0)\n",
        "    #df = df.sample(n = 10000)\n",
        "    X_test =df[df.columns[0:-1]]\n",
        "    #X_test=np.array(X_test)\n",
        "    df[df.columns[-1]] = df[df.columns[-1]].astype('category')\n",
        "    y_test=df[df.columns[-1]].cat.codes\n",
        "\n",
        "\n",
        "    ths = open(f\"./{outputcsv}\", \"w\")\n",
        "    ths.write(\"MEAN,STD,TIME\\n\")\n",
        "    logmodel=SVC()\n",
        "    # 200,120\n",
        "    chromo,score=generations(size=200,n_feat=X_train.shape[1],n_parents=120,mutation_rate=0.005,\n",
        "                         n_gen=gen_number,X_train=X_train,X_test=X_test,y_train=y_train,y_test=y_test)\n",
        "    #logmodel.fit(X_train.iloc[:,chromo[-1]],y_train)\n",
        "    #predictions = logmodel.predict(X_test.iloc[:,chromo[-1]])\n",
        "    #print(\"F1 Score score after genetic algorithm is= \"+str(sklearn.metrics.f1_score(y_test,predictions,average= \"macro\")))\n",
        "    ths.close()\n",
        "    sonuç=[]\n",
        "    for k,j in enumerate(chromo):\n",
        "        temp=X_train.iloc[:,j]\n",
        "        temp=list(temp.columns)\n",
        "        temp.append(\"Label\")\n",
        "        sonuç.append(temp)\n",
        "    print('npy',sonuç)\n",
        "    np_data = np.array(sonuç, dtype=object)\n",
        "    np.save(outputcsv.replace(\"csv\",\"npy\"), np_data)\n",
        "    print('done')\n",
        "    gf = pd.read_csv(outputcsv)\n",
        "    gf=gf[\"MEAN\"].values\n",
        "    gf=np.argmax(gf)\n",
        "    return sonuç[gf],gf"
      ]
    },
    {
      "cell_type": "code",
      "execution_count": 4,
      "metadata": {
        "id": "HKIIFW4qgKoR"
      },
      "outputs": [],
      "source": []
    },
    {
      "cell_type": "code",
      "execution_count": 5,
      "metadata": {
        "id": "30m7LmrogKoR"
      },
      "outputs": [],
      "source": [
        "def folder(f_name): #this function creates a folder named \"attacks\" in the program directory.\n",
        "    try:\n",
        "        if not os.path.exists(f_name):\n",
        "            os.makedirs(f_name)\n",
        "    except OSError:\n",
        "        print (\"The folder could not be created!\")"
      ]
    },
    {
      "cell_type": "code",
      "execution_count": 6,
      "metadata": {
        "id": "U5KYogJWgKoR"
      },
      "outputs": [],
      "source": [
        "def find_the_way(path,file_format,con=\"\"):\n",
        "    files_add = []\n",
        "    # r=root, d=directories, f = files\n",
        "    for r, d, f in os.walk(path):\n",
        "        for file in f:\n",
        "            if file_format in file:\n",
        "                if con in file:\n",
        "                    files_add.append(os.path.join(r, file))\n",
        "\n",
        "    return files_add"
      ]
    },
    {
      "cell_type": "code",
      "execution_count": 29,
      "metadata": {
        "id": "U0h4FV3ogKoS"
      },
      "outputs": [],
      "source": [
        "ml_list={\"SVC\":SVC()}"
      ]
    },
    {
      "cell_type": "code",
      "execution_count": 8,
      "metadata": {
        "id": "FsxuIn6sgKoS"
      },
      "outputs": [],
      "source": [
        "def target_name(name):\n",
        "    df = pd.read_csv(name,usecols=[\"Label\"])\n",
        "    target_names=sorted(list(df[\"Label\"].unique()))\n",
        "    return target_names"
      ]
    },
    {
      "cell_type": "code",
      "execution_count": 9,
      "metadata": {
        "id": "C8TAqJdngKoS"
      },
      "outputs": [],
      "source": [
        "folder(\"results\")\n",
        "folder(\"pdfs\")"
      ]
    },
    {
      "cell_type": "markdown",
      "metadata": {
        "id": "X452bIAjgKoS"
      },
      "source": [
        "## Calculation of evaluations"
      ]
    },
    {
      "cell_type": "code",
      "execution_count": 10,
      "metadata": {
        "id": "J7aaT3PogKoT"
      },
      "outputs": [],
      "source": [
        "def score(train_time,test_time,predict,y_test,class_based_results,repeat,cv,dname,ml,sw):\n",
        "    train_time=train_time[0]\n",
        "    test_time=test_time[0]\n",
        "    rc=sklearn.metrics.recall_score(y_test, predict,average= \"macro\")\n",
        "    pr=sklearn.metrics.precision_score(y_test, predict,average= \"macro\")\n",
        "    f_1=sklearn.metrics.f1_score(y_test, predict,average= \"macro\")\n",
        "    accuracy=sklearn.metrics.accuracy_score(y_test, predict)\n",
        "    accuracy_b=sklearn.metrics.balanced_accuracy_score( y_test,predict)\n",
        "    kappa=sklearn.metrics.cohen_kappa_score(y_test, predict,labels=None, weights=None, sample_weight=None)\n",
        "    try:\n",
        "        roc=sklearn.metrics.roc_auc_score(y_test, predict)\n",
        "    except:roc=0\n",
        "    report = sklearn.metrics.classification_report(y_test, predict, target_names=target_names,output_dict=True)\n",
        "    cr = pd.DataFrame(report).transpose()\n",
        "    line=[dname,sw,repeat,cv,ml,accuracy,accuracy_b,pr,rc,f_1,kappa,roc,train_time,test_time]\n",
        "\n",
        "    if class_based_results.empty:\n",
        "        class_based_results =cr\n",
        "    else:\n",
        "        class_based_results = class_based_results.add(cr, fill_value=0)\n",
        "    return class_based_results,line"
      ]
    },
    {
      "cell_type": "code",
      "execution_count": 11,
      "metadata": {
        "id": "tTWQZ1dogKoT"
      },
      "outputs": [],
      "source": [
        "def ML_CV(loop1,loop2,output_csv,cols,dname,sw):\n",
        "    fold=5\n",
        "    repetition=10\n",
        "\n",
        "    for ii in ml_list:\n",
        "        class_based_results=pd.DataFrame()#\"\" #pd.DataFrame(0, index=np.arange((len(target_names)+3)), columns=[\"f1-score\",\"precision\",\"recall\",\"support\"])\n",
        "        cm=pd.DataFrame()\n",
        "        cv=0\n",
        "        lines=[[\"Dataset\",\"SW\",\"T\",\"CV\",\"ML\",\"Acc\",\"b_Acc\",\"Prec\",\"Rec\",\"F1\",\"kap\",\"ROC\",\"tra-T\",\"test-T\"]]\n",
        "        for i in range(repetition):\n",
        "\n",
        "            #rnd = random()\n",
        "\n",
        "            #kfold = sklearn.model_selection.KFold(n_splits=fold, shuffle=True, random_state=int(rnd*100))\n",
        "            cv=0\n",
        "            df = pd.read_csv(loop1,usecols=cols)#,header=None )\n",
        "            df=df.fillna(0)\n",
        "            X_train =df[df.columns[0:-1]]\n",
        "            X_train=np.array(X_train)\n",
        "            df[df.columns[-1]] = df[df.columns[-1]].astype('category')\n",
        "            y_train=df[df.columns[-1]].cat.codes\n",
        "\n",
        "\n",
        "            df = pd.read_csv(loop2,usecols=cols)#,header=None )\n",
        "            df=df.fillna(0)\n",
        "            X_test =df[df.columns[0:-1]]\n",
        "            X_test=np.array(X_test)\n",
        "            df[df.columns[-1]] = df[df.columns[-1]].astype('category')\n",
        "            y_test=df[df.columns[-1]].cat.codes\n",
        "\n",
        "\n",
        "\n",
        "\n",
        "            #dname=loop1  [6:-13]\n",
        "            results_y=[]\n",
        "            cv+=1\n",
        "            results_y.append(y_test)\n",
        "\n",
        "\n",
        "            precision=[]\n",
        "            recall=[]\n",
        "            f1=[]\n",
        "            accuracy=[]\n",
        "            train_time=[]\n",
        "            test_time=[]\n",
        "            total_time=[]\n",
        "            kappa=[]\n",
        "            accuracy_b=[]\n",
        "\n",
        "                #machine learning algorithm is applied in this section\n",
        "            clf = ml_list[ii]#choose algorithm from ml_list dictionary\n",
        "            second=time.time()\n",
        "            clf.fit(X_train, y_train)\n",
        "            train_time.append(float((time.time()-second)) )\n",
        "            second=time.time()\n",
        "            predict =clf.predict(X_test)\n",
        "            test_time.append(float((time.time()-second)) )\n",
        "\n",
        "            altime=0\n",
        "            class_based_results,line=score(train_time,test_time,predict,y_test,class_based_results,cv,i,dname,ii,sw)\n",
        "            lines.append(line)\n",
        "\n",
        "        results = pd.DataFrame (lines[1:], columns = lines[0])\n",
        "        results.to_csv(output_csv.replace(\"ML\",ii),index=False)\n",
        "        results=results.round(3)\n",
        "        #print (tabulate(results, headers=list(results.columns)))\n",
        "        #print()"
      ]
    },
    {
      "cell_type": "code",
      "execution_count": 12,
      "metadata": {
        "id": "ShWFna2XgKoU"
      },
      "outputs": [],
      "source": [
        "features=['ts', 'pck_size', 'payload_bytes','entropy','TCP_window','pck_size_diff','pck_size_mean','pck_size_std',\n",
        "'ts_diff', 'ts_mean', 'ts_std','TCP_window_diff','TCP_window_mean','TCP_window_std',\n",
        "'payload_bytes_diff' ,'payload_bytes_mean','payload_bytes_std',\n",
        "'entropy_diff','entropy_mean','entropy_std','ts_sum_of', 'pck_size_sum_of', 'payload_bytes_sum_of','entropy_sum_of','TCP_window_sum_of',\"Label\"]"
      ]
    },
    {
      "cell_type": "code",
      "execution_count": 13,
      "metadata": {
        "id": "-Nxujj9lgKoU"
      },
      "outputs": [],
      "source": [
        "attack_dict={'Active Wiretap':\"AWT\",\n",
        " 'ARP MitM':\"ARPMitM\",\n",
        " 'Fuzzing':\"Fuzzing\",\n",
        " 'Mirai':\"Mirai\",\n",
        " 'OS Scan':\"OS_Scan\",\n",
        " 'SSDP Flood':\"SSDP_F\",\n",
        " 'SSL Renegotiation':\"SSL_Ren\",\n",
        " 'SYN DoS':\"SYN_F\",\n",
        " 'Video Injection':\"Vid_Inj\"}"
      ]
    },
    {
      "cell_type": "markdown",
      "metadata": {
        "id": "LhVMF-X0gKoU"
      },
      "source": [
        "# ONLY MiTM"
      ]
    },
    {
      "cell_type": "code",
      "execution_count": 14,
      "metadata": {
        "id": "Lg3QG9XBgKoU"
      },
      "outputs": [],
      "source": [
        "MiTM=[\"AWT\",\"ARPMitM\",\"Vid_Inj\"]"
      ]
    },
    {
      "cell_type": "markdown",
      "metadata": {
        "id": "b-v-OBzvgKoU"
      },
      "source": [
        "# Without GA"
      ]
    },
    {
      "cell_type": "code",
      "execution_count": 31,
      "metadata": {
        "id": "7kCabdj4gKoU",
        "outputId": "df3b69cc-e46e-487d-e3ac-0c8e014f49d6",
        "colab": {
          "base_uri": "https://localhost:8080/"
        }
      },
      "outputs": [
        {
          "output_type": "stream",
          "name": "stdout",
          "text": [
            "Mirai : ['ts', 'pck_size', 'payload_bytes', 'entropy', 'TCP_window', 'pck_size_diff', 'pck_size_mean', 'pck_size_std', 'ts_diff', 'ts_mean', 'ts_std', 'TCP_window_diff', 'TCP_window_mean', 'TCP_window_std', 'payload_bytes_diff', 'payload_bytes_mean', 'payload_bytes_std', 'entropy_diff', 'entropy_mean', 'entropy_std', 'ts_sum_of', 'pck_size_sum_of', 'payload_bytes_sum_of', 'entropy_sum_of', 'TCP_window_sum_of', 'Label']\n",
            "    Dataset         Acc     b_Acc      Prec       Rec        F1      kap       ROC      tra-T      test-T\n",
            "--  ---------  --------  --------  --------  --------  --------  -------  --------  ---------  ----------\n",
            " 0  Mirai      0.5201    0.5201    0.735642  0.5201    0.377824  0.0402   0.5201    0.193246   0.593568\n",
            " 1  Mirai      0.702575  0.702575  0.705588  0.702575  0.702399  0.40515  0.702575  0.0114046  0.00185821\n"
          ]
        }
      ],
      "source": [
        "file_list=find_the_way(\"EW\",\"train\")\n",
        "i=0\n",
        "for ii in (file_list):\n",
        "    temp=ii.split(\"_\")[2]\n",
        "    output_csv=f\"./results/ML_{temp}.csv\"\n",
        "    target_names=[\"attack\",\"benign\"]\n",
        "    dname=attack_dict[temp]\n",
        "    feature=features\n",
        "    print(f\"{dname} : {feature}\")\n",
        "    ML_CV(ii,ii.replace(\"train\",\"test\"),output_csv,feature,dname,i)\n",
        "\n",
        "name_list=find_the_way('./results/','.csv')\n",
        "lines=[[\"Dataset\",\"Acc\",\"b_Acc\",\"Prec\",\"Rec\",\"F1\",\"kap\",\"ROC\",\"tra-T\",\"test-T\"]]\n",
        "cols=['Acc', 'b_Acc', 'Prec', 'Rec', 'F1','kap', 'ROC', 'tra-T', 'test-T']\n",
        "for p in name_list:\n",
        "    df = pd.read_csv(p,usecols=cols)\n",
        "    temp=pd.DataFrame(df.mean())\n",
        "    a=list(temp.values.flatten())\n",
        "    add_data=p[:-4].split(\"_\")[1:]\n",
        "    add_data=add_data+a\n",
        "    lines.append(add_data)\n",
        "results = pd.DataFrame (lines[1:], columns = lines[0])\n",
        "\n",
        "print (tabulate(results, headers=list(results.columns)))\n"
      ]
    },
    {
      "cell_type": "code",
      "execution_count": 32,
      "metadata": {
        "id": "ChmNEZOPgKoV",
        "outputId": "810e794a-57bd-4f4e-9a9a-9223e5cfc5b4",
        "colab": {
          "base_uri": "https://localhost:8080/"
        }
      },
      "outputs": [
        {
          "output_type": "execute_result",
          "data": {
            "text/plain": [
              "26"
            ]
          },
          "metadata": {},
          "execution_count": 32
        }
      ],
      "source": [
        "len(features)"
      ]
    },
    {
      "cell_type": "markdown",
      "metadata": {
        "id": "5iE6VDjHgKoV"
      },
      "source": [
        "# Without 25 Generation GA"
      ]
    },
    {
      "cell_type": "code",
      "execution_count": 41,
      "metadata": {
        "scrolled": false,
        "id": "PAGTRxN3gKoV",
        "outputId": "8947ce8e-e0e5-41e4-9720-01408197e871",
        "colab": {
          "base_uri": "https://localhost:8080/"
        }
      },
      "outputs": [
        {
          "output_type": "stream",
          "name": "stdout",
          "text": [
            "npy [['ts', 'TCP_window', 'payload_bytes', 'entropy', 'pck_size_diff', 'pck_size_std', 'ts_mean', 'ts_std', 'ts_sum_of', 'TCP_window_diff', 'TCP_window_mean', 'TCP_window_sum_of', 'payload_bytes_diff', 'payload_bytes_mean', 'payload_bytes_std', 'entropy_diff', 'entropy_mean', 'entropy_std', 'Label'], ['ts', 'pck_size', 'TCP_window', 'payload_bytes', 'pck_size_diff', 'pck_size_mean', 'pck_size_std', 'ts_diff', 'ts_sum_of', 'TCP_window_diff', 'TCP_window_mean', 'payload_bytes_diff', 'payload_bytes_mean', 'payload_bytes_std', 'entropy_diff', 'entropy_mean', 'entropy_std', 'Label'], ['ts', 'pck_size', 'TCP_window', 'payload_bytes', 'entropy', 'pck_size_diff', 'pck_size_std', 'ts_diff', 'ts_sum_of', 'TCP_window_diff', 'TCP_window_mean', 'payload_bytes_diff', 'payload_bytes_mean', 'payload_bytes_std', 'entropy_diff', 'entropy_mean', 'entropy_std', 'Label'], ['pck_size', 'TCP_window', 'payload_bytes', 'entropy', 'pck_size_diff', 'pck_size_std', 'ts_diff', 'ts_sum_of', 'TCP_window_mean', 'payload_bytes_diff', 'payload_bytes_mean', 'payload_bytes_std', 'entropy_diff', 'entropy_mean', 'entropy_std', 'Label'], ['ts', 'pck_size', 'TCP_window', 'payload_bytes', 'entropy', 'pck_size_diff', 'pck_size_std', 'ts_sum_of', 'TCP_window_diff', 'TCP_window_mean', 'TCP_window_sum_of', 'payload_bytes_diff', 'payload_bytes_mean', 'payload_bytes_std', 'entropy_diff', 'entropy_mean', 'entropy_std', 'Label'], ['ts', 'pck_size', 'TCP_window', 'payload_bytes', 'entropy', 'pck_size_diff', 'pck_size_std', 'ts_sum_of', 'TCP_window_diff', 'TCP_window_mean', 'payload_bytes_diff', 'payload_bytes_mean', 'payload_bytes_std', 'entropy_diff', 'entropy_mean', 'entropy_std', 'Label'], ['ts', 'TCP_window', 'entropy', 'pck_size_diff', 'pck_size_mean', 'pck_size_std', 'ts_mean', 'ts_std', 'ts_sum_of', 'TCP_window_std', 'payload_bytes_diff', 'payload_bytes_mean', 'entropy_diff', 'entropy_mean', 'entropy_std', 'Label'], ['ts', 'pck_size', 'pck_size_mean', 'ts_mean', 'ts_std', 'ts_sum_of', 'TCP_window_diff', 'TCP_window_mean', 'TCP_window_std', 'payload_bytes_std', 'Label'], ['ts', 'pck_size', 'entropy', 'pck_size_diff', 'pck_size_mean', 'ts_mean', 'ts_std', 'ts_sum_of', 'TCP_window_diff', 'TCP_window_mean', 'TCP_window_std', 'payload_bytes_std', 'Label'], ['ts', 'payload_bytes', 'pck_size_diff', 'pck_size_mean', 'pck_size_std', 'ts_mean', 'ts_sum_of', 'TCP_window_diff', 'TCP_window_std', 'payload_bytes_diff', 'payload_bytes_std', 'entropy_diff', 'entropy_mean', 'entropy_std', 'Label'], ['ts', 'payload_bytes', 'pck_size_diff', 'pck_size_std', 'ts_mean', 'ts_sum_of', 'TCP_window_diff', 'TCP_window_std', 'payload_bytes_diff', 'payload_bytes_std', 'entropy_diff', 'entropy_mean', 'entropy_std', 'Label'], ['ts', 'payload_bytes', 'entropy', 'pck_size_diff', 'pck_size_std', 'ts_mean', 'ts_std', 'ts_sum_of', 'TCP_window_std', 'payload_bytes_diff', 'entropy_diff', 'entropy_mean', 'entropy_std', 'Label'], ['ts', 'payload_bytes', 'pck_size_diff', 'pck_size_std', 'ts_mean', 'ts_std', 'ts_sum_of', 'TCP_window_std', 'payload_bytes_diff', 'entropy_diff', 'entropy_mean', 'entropy_std', 'Label'], ['ts', 'payload_bytes', 'pck_size_diff', 'pck_size_std', 'ts_mean', 'ts_std', 'ts_sum_of', 'TCP_window_mean', 'TCP_window_std', 'payload_bytes_diff', 'entropy_diff', 'entropy_mean', 'entropy_std', 'Label'], ['ts', 'payload_bytes', 'pck_size_diff', 'pck_size_std', 'ts_mean', 'ts_std', 'ts_sum_of', 'TCP_window_std', 'payload_bytes_diff', 'entropy_diff', 'entropy_mean', 'entropy_std', 'Label'], ['ts', 'entropy', 'pck_size_diff', 'pck_size_std', 'ts_mean', 'ts_sum_of', 'TCP_window_std', 'payload_bytes_diff', 'payload_bytes_std', 'entropy_diff', 'entropy_mean', 'Label'], ['payload_bytes', 'entropy', 'pck_size_diff', 'pck_size_std', 'ts_mean', 'ts_std', 'ts_sum_of', 'TCP_window_std', 'payload_bytes_diff', 'entropy_diff', 'entropy_mean', 'entropy_std', 'Label'], ['entropy', 'pck_size_diff', 'pck_size_mean', 'pck_size_std', 'ts_mean', 'ts_sum_of', 'TCP_window_std', 'payload_bytes_diff', 'payload_bytes_std', 'entropy_diff', 'entropy_mean', 'entropy_std', 'Label'], ['entropy', 'pck_size_diff', 'pck_size_mean', 'pck_size_std', 'ts_mean', 'ts_sum_of', 'TCP_window_std', 'payload_bytes_diff', 'payload_bytes_std', 'entropy_diff', 'entropy_mean', 'entropy_std', 'Label'], ['payload_bytes', 'entropy', 'pck_size_std', 'ts_mean', 'ts_sum_of', 'TCP_window_diff', 'TCP_window_std', 'payload_bytes_diff', 'payload_bytes_std', 'entropy_diff', 'entropy_mean', 'entropy_std', 'Label'], ['payload_bytes', 'pck_size_diff', 'pck_size_std', 'ts_mean', 'ts_sum_of', 'TCP_window_std', 'payload_bytes_diff', 'payload_bytes_std', 'entropy_diff', 'entropy_mean', 'Label'], ['payload_bytes', 'pck_size_diff', 'pck_size_std', 'ts_mean', 'ts_sum_of', 'TCP_window_std', 'payload_bytes_diff', 'payload_bytes_std', 'entropy_diff', 'Label'], ['payload_bytes', 'pck_size_diff', 'pck_size_std', 'ts_mean', 'ts_sum_of', 'TCP_window_std', 'payload_bytes_diff', 'payload_bytes_std', 'entropy_diff', 'Label'], ['entropy', 'pck_size_diff', 'pck_size_std', 'ts_sum_of', 'TCP_window_std', 'payload_bytes_diff', 'entropy_diff', 'entropy_mean', 'entropy_std', 'Label'], ['entropy', 'pck_size_std', 'ts_mean', 'ts_sum_of', 'TCP_window_std', 'payload_bytes_diff', 'payload_bytes_std', 'Label']]\n",
            "done\n",
            "Mirai : ['entropy', 'pck_size_diff', 'pck_size_mean', 'pck_size_std', 'ts_mean', 'ts_sum_of', 'TCP_window_std', 'payload_bytes_diff', 'payload_bytes_std', 'entropy_diff', 'entropy_mean', 'entropy_std', 'Label']\n",
            "########################################################################################################################\n",
            "\n",
            "    Dataset        Acc    b_Acc      Prec      Rec        F1     kap      ROC     tra-T    test-T\n",
            "--  ---------  -------  -------  --------  -------  --------  ------  -------  --------  --------\n",
            " 0  Mirai      0.92665  0.92665  0.927474  0.92665  0.926615  0.8533  0.92665  0.169202   0.47514\n"
          ]
        }
      ],
      "source": [
        "file_list=find_the_way(\"EW\",\"train\")\n",
        "i=0\n",
        "for ii in (file_list):\n",
        "    temp=ii.split(\"_\")[2]\n",
        "    output_csv=f\"./results/ML_{temp}.csv\"\n",
        "    target_names=[\"attack\",\"benign\"]\n",
        "    dname=attack_dict[temp]\n",
        "    # gen_number =25\n",
        "    feature,_=GA(ii,ii.replace(\"train\",\"test\"),features,gen_number=25,outputcsv=f\"{dname}_GA_output.csv\")\n",
        "    print(f\"{dname} : {feature}\")\n",
        "    ML_CV(ii,ii.replace(\"train\",\"test\"),output_csv,feature,dname,i)\n",
        "    print(f\"{120*'#'}\\n\")\n",
        "name_list=find_the_way('./results/','.csv')\n",
        "lines=[[\"Dataset\",\"Acc\",\"b_Acc\",\"Prec\",\"Rec\",\"F1\",\"kap\",\"ROC\",\"tra-T\",\"test-T\"]]\n",
        "cols=['Acc', 'b_Acc', 'Prec', 'Rec', 'F1','kap', 'ROC', 'tra-T', 'test-T']\n",
        "for p in name_list:\n",
        "    df = pd.read_csv(p,usecols=cols)\n",
        "    temp=pd.DataFrame(df.mean())\n",
        "    a=list(temp.values.flatten())\n",
        "    add_data=p[:-4].split(\"_\")[1:]\n",
        "    add_data=add_data+a\n",
        "    lines.append(add_data)\n",
        "results = pd.DataFrame (lines[1:], columns = lines[0])\n",
        "\n",
        "print (tabulate(results, headers=list(results.columns)))\n"
      ]
    }
  ],
  "metadata": {
    "kernelspec": {
      "display_name": "Python 3 (ipykernel)",
      "language": "python",
      "name": "python3"
    },
    "language_info": {
      "codemirror_mode": {
        "name": "ipython",
        "version": 3
      },
      "file_extension": ".py",
      "mimetype": "text/x-python",
      "name": "python",
      "nbconvert_exporter": "python",
      "pygments_lexer": "ipython3",
      "version": "3.10.8"
    },
    "colab": {
      "provenance": []
    }
  },
  "nbformat": 4,
  "nbformat_minor": 0
}